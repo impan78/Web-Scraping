{
 "cells": [
  {
   "cell_type": "code",
   "execution_count": 1,
   "id": "1159a155",
   "metadata": {},
   "outputs": [],
   "source": [
    "from bs4 import BeautifulSoup\n",
    "import requests\n",
    "import pandas as pd"
   ]
  },
  {
   "cell_type": "code",
   "execution_count": 2,
   "id": "a93a7a30",
   "metadata": {},
   "outputs": [],
   "source": [
    "base_url = 'https://books.toscrape.com/catalogue/page-{}.html'"
   ]
  },
  {
   "cell_type": "code",
   "execution_count": 3,
   "id": "d4fd008a",
   "metadata": {},
   "outputs": [],
   "source": [
    "def get_urls(base_url):\n",
    "    URLs = []\n",
    "    for page in range(1, 51):\n",
    "        url = base_url.format(page)\n",
    "        URLs.append(url)\n",
    "    return URLs"
   ]
  },
  {
   "cell_type": "code",
   "execution_count": 4,
   "id": "f23d1e51",
   "metadata": {},
   "outputs": [],
   "source": [
    "def book_details(book):\n",
    "    rating_values = {'One':1, 'Two':2, 'Three': 3, 'Four': 4, 'Five':5}\n",
    "    book_name = book.find('h3').find('a').get('title')\n",
    "    key = book.find('p', class_='star-rating').get('class')[1]\n",
    "    ratting = rating_values[key]\n",
    "    price = float(book.find('p', class_=\"price_color\").text.split('£')[1])\n",
    "    stock_status = book.find('div', class_=\"product_price\").find_all('p')[1].text.strip()\n",
    "\n",
    "    return [book_name, ratting, price, stock_status]"
   ]
  },
  {
   "cell_type": "code",
   "execution_count": 5,
   "id": "540a406b",
   "metadata": {},
   "outputs": [],
   "source": [
    "def scraping(URL):\n",
    "    try:\n",
    "        response = requests.get(URL)\n",
    "    except:\n",
    "        print(\"Provide proper URL\")\n",
    "        return []\n",
    "    soup = BeautifulSoup(response.text, 'html.parser')\n",
    "    books = soup.find_all(\"li\", class_=\"col-xs-6 col-sm-4 col-md-3 col-lg-3\")\n",
    "    Book_Details = []\n",
    "    for book in books:\n",
    "        Book_Details.append(book_details(book))\n",
    "    return Book_Details"
   ]
  },
  {
   "cell_type": "code",
   "execution_count": 6,
   "id": "d86fdfda",
   "metadata": {},
   "outputs": [],
   "source": [
    "all_urls = get_urls(base_url)"
   ]
  },
  {
   "cell_type": "code",
   "execution_count": 7,
   "id": "cafd27d1",
   "metadata": {},
   "outputs": [],
   "source": [
    "all_books = []\n",
    "for URL in all_urls:\n",
    "    all_books.extend(scraping(URL))"
   ]
  },
  {
   "cell_type": "code",
   "execution_count": 8,
   "id": "aaed49bc",
   "metadata": {},
   "outputs": [],
   "source": [
    "columns = ['book_name', 'ratting (out of 5)', 'price (in £)', 'stock_status']"
   ]
  },
  {
   "cell_type": "code",
   "execution_count": 9,
   "id": "f4152fa5",
   "metadata": {},
   "outputs": [],
   "source": [
    "df = pd.DataFrame(all_books, columns=columns)"
   ]
  },
  {
   "cell_type": "code",
   "execution_count": 10,
   "id": "d382d94d",
   "metadata": {},
   "outputs": [
    {
     "data": {
      "text/html": [
       "<div>\n",
       "<style scoped>\n",
       "    .dataframe tbody tr th:only-of-type {\n",
       "        vertical-align: middle;\n",
       "    }\n",
       "\n",
       "    .dataframe tbody tr th {\n",
       "        vertical-align: top;\n",
       "    }\n",
       "\n",
       "    .dataframe thead th {\n",
       "        text-align: right;\n",
       "    }\n",
       "</style>\n",
       "<table border=\"1\" class=\"dataframe\">\n",
       "  <thead>\n",
       "    <tr style=\"text-align: right;\">\n",
       "      <th></th>\n",
       "      <th>book_name</th>\n",
       "      <th>ratting (out of 5)</th>\n",
       "      <th>price (in £)</th>\n",
       "      <th>stock_status</th>\n",
       "    </tr>\n",
       "  </thead>\n",
       "  <tbody>\n",
       "    <tr>\n",
       "      <th>0</th>\n",
       "      <td>A Light in the Attic</td>\n",
       "      <td>3</td>\n",
       "      <td>51.77</td>\n",
       "      <td>In stock</td>\n",
       "    </tr>\n",
       "    <tr>\n",
       "      <th>1</th>\n",
       "      <td>Tipping the Velvet</td>\n",
       "      <td>1</td>\n",
       "      <td>53.74</td>\n",
       "      <td>In stock</td>\n",
       "    </tr>\n",
       "    <tr>\n",
       "      <th>2</th>\n",
       "      <td>Soumission</td>\n",
       "      <td>1</td>\n",
       "      <td>50.10</td>\n",
       "      <td>In stock</td>\n",
       "    </tr>\n",
       "    <tr>\n",
       "      <th>3</th>\n",
       "      <td>Sharp Objects</td>\n",
       "      <td>4</td>\n",
       "      <td>47.82</td>\n",
       "      <td>In stock</td>\n",
       "    </tr>\n",
       "    <tr>\n",
       "      <th>4</th>\n",
       "      <td>Sapiens: A Brief History of Humankind</td>\n",
       "      <td>5</td>\n",
       "      <td>54.23</td>\n",
       "      <td>In stock</td>\n",
       "    </tr>\n",
       "  </tbody>\n",
       "</table>\n",
       "</div>"
      ],
      "text/plain": [
       "                               book_name  ratting (out of 5)  price (in £)  \\\n",
       "0                   A Light in the Attic                   3         51.77   \n",
       "1                     Tipping the Velvet                   1         53.74   \n",
       "2                             Soumission                   1         50.10   \n",
       "3                          Sharp Objects                   4         47.82   \n",
       "4  Sapiens: A Brief History of Humankind                   5         54.23   \n",
       "\n",
       "  stock_status  \n",
       "0     In stock  \n",
       "1     In stock  \n",
       "2     In stock  \n",
       "3     In stock  \n",
       "4     In stock  "
      ]
     },
     "execution_count": 10,
     "metadata": {},
     "output_type": "execute_result"
    }
   ],
   "source": [
    "df.head()"
   ]
  },
  {
   "cell_type": "code",
   "execution_count": 11,
   "id": "9449e9c3",
   "metadata": {},
   "outputs": [
    {
     "data": {
      "text/plain": [
       "(1000, 4)"
      ]
     },
     "execution_count": 11,
     "metadata": {},
     "output_type": "execute_result"
    }
   ],
   "source": [
    "df.shape"
   ]
  },
  {
   "cell_type": "code",
   "execution_count": 12,
   "id": "b6056ce6",
   "metadata": {},
   "outputs": [],
   "source": [
    "df.to_csv(\"Books_Details.csv\", index=False)"
   ]
  }
 ],
 "metadata": {
  "kernelspec": {
   "display_name": "scrapingenv",
   "language": "python",
   "name": "python3"
  },
  "language_info": {
   "codemirror_mode": {
    "name": "ipython",
    "version": 3
   },
   "file_extension": ".py",
   "mimetype": "text/x-python",
   "name": "python",
   "nbconvert_exporter": "python",
   "pygments_lexer": "ipython3",
   "version": "3.12.4"
  }
 },
 "nbformat": 4,
 "nbformat_minor": 5
}
